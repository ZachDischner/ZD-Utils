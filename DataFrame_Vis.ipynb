{
 "metadata": {
  "name": "",
  "signature": "sha256:f5f1e59334488507dffe5d3087c26a4500fb63d63970b8f6a1f3ef17c70f51ee"
 },
 "nbformat": 3,
 "nbformat_minor": 0,
 "worksheets": [
  {
   "cells": [
    {
     "cell_type": "code",
     "collapsed": false,
     "input": [
      "import pandas as pd\n",
      "import numpy as np\n",
      "import DataFrameUtils as dfutil\n",
      "from IPython.display import display,Javascript,HTML,display_html,display_javascript"
     ],
     "language": "python",
     "metadata": {},
     "outputs": [],
     "prompt_number": 1
    },
    {
     "cell_type": "code",
     "collapsed": false,
     "input": [
      "df = pd.DataFrame(columns=['a','b','c'])\n",
      "df.a=arange(10)\n",
      "df.b=np.sin(df.a*0.02*pi/10) + (np.random.ranf(size=len(df.a))-0.5)*0.25\n",
      "df.c=np.cos(df.a*pi/5)"
     ],
     "language": "python",
     "metadata": {},
     "outputs": [],
     "prompt_number": 3
    },
    {
     "cell_type": "code",
     "collapsed": false,
     "input": [
      "reload(dfutil)\n",
      "df = pd.DataFrame(columns=['a','b','c'])\n",
      "df.a=arange(1000)\n",
      "df.b=np.sin(df.a*0.02*pi/10) + (np.random.ranf(size=len(df.a))-0.5)*0.25\n",
      "df.c=np.cos(df.a*pi/5)\n",
      "dfj,dygraphs_str = dfutil.DataFrame2DygraphsJS(df,\"a\")\n",
      "#print dygraphs_str\n",
      "display(HTML(dygraphs_str))"
     ],
     "language": "python",
     "metadata": {},
     "outputs": [
      {
       "html": [
        "\n",
        "    <script src=\"http://dygraphs.com/dygraph-combined.js\"></script>\n",
        "    <div id='graphdiv' style=\"width: auto; height: 400px;\"></div>\n",
        "    <script type=\"text/javascript\">\n",
        "    function convertToDataTable(d) {\n",
        "      var columns = _.keys(d);\n",
        "      var x_col = 'a';\n",
        "      columns.splice(columns.indexOf(x_col), 1);  // Get index column. (prob index). Don't need to do this just to plot all\n",
        "      var out = [];\n",
        "      var i = 0;\n",
        "      for (var k in d[x_col]) {\n",
        "        var row = [d[x_col][k]];\n",
        "        columns.forEach(function(col) {\n",
        "          row.push(d[col][k]);\n",
        "        });\n",
        "        out.push(row);\n",
        "      }\n",
        "      return {data:out, labels:[x_col].concat(columns)};\n",
        "    }\n",
        "\n",
        "    function handle_output(out) {\n",
        "      var json = out.content.data['text/plain'];\n",
        "      var data = JSON.parse(eval(json));\n",
        "      var tabular = convertToDataTable(data);\n",
        "      g = new Dygraph(document.getElementById('graphdiv'), tabular.data, {\n",
        "        legend: 'always',\n",
        "        labels: tabular.labels,\n",
        "        rollPeriod: 1,\n",
        "        showRoller: true,\n",
        "        \n",
        "        errorBars: false\n",
        "      })\n",
        "    }\n",
        "    var kernel = IPython.notebook.kernel;\n",
        "    var callbacks = { 'iopub' : {'output' : handle_output}};\n",
        "    kernel.execute(\"dfj\", callbacks, {silent:false});\n",
        "    </script>\n",
        "    "
       ],
       "metadata": {},
       "output_type": "display_data",
       "text": [
        "<IPython.core.display.HTML at 0x7f9fb9016050>"
       ]
      }
     ],
     "prompt_number": 4
    },
    {
     "cell_type": "code",
     "collapsed": false,
     "input": [
      "reload(dfutil)\n",
      "df = pd.DataFrame(columns=['x','y','z'])\n",
      "df.x=arange(100)\n",
      "df.y=np.cos(df.x*0.2*pi/10) + (np.random.ranf(size=len(df.x))-0.5)*0.5\n",
      "df.z=np.cos(df.x*pi/5)**2\n",
      "dfj,dygraphs_str = dfutil.DataFrame2DygraphsJS(df,\"x\",div=\"foobar\",colors=['red','pink'])\n",
      "#print dygraphs_str\n",
      "display(HTML(dygraphs_str))"
     ],
     "language": "python",
     "metadata": {},
     "outputs": [
      {
       "html": [
        "\n",
        "    <script src=\"http://dygraphs.com/dygraph-combined.js\"></script>\n",
        "    <div id='foobar' style=\"width: auto; height: 400px;\"></div>\n",
        "    <script type=\"text/javascript\">\n",
        "    function convertToDataTable(d) {\n",
        "      var columns = _.keys(d);\n",
        "      var x_col = 'x';\n",
        "      columns.splice(columns.indexOf(x_col), 1);  // Get index column. (prob index). Don't need to do this just to plot all\n",
        "      var out = [];\n",
        "      var i = 0;\n",
        "      for (var k in d[x_col]) {\n",
        "        var row = [d[x_col][k]];\n",
        "        columns.forEach(function(col) {\n",
        "          row.push(d[col][k]);\n",
        "        });\n",
        "        out.push(row);\n",
        "      }\n",
        "      return {data:out, labels:[x_col].concat(columns)};\n",
        "    }\n",
        "\n",
        "    function handle_output(out) {\n",
        "      var json = out.content.data['text/plain'];\n",
        "      var data = JSON.parse(eval(json));\n",
        "      var tabular = convertToDataTable(data);\n",
        "      g = new Dygraph(document.getElementById('foobar'), tabular.data, {\n",
        "        legend: 'always',\n",
        "        labels: tabular.labels,\n",
        "        rollPeriod: 1,\n",
        "        showRoller: true,\n",
        "        colors: [\"red\",\"pink\"],\n",
        "        errorBars: false\n",
        "      })\n",
        "    }\n",
        "    var kernel = IPython.notebook.kernel;\n",
        "    var callbacks = { 'iopub' : {'output' : handle_output}};\n",
        "    kernel.execute(\"dfj\", callbacks, {silent:false});\n",
        "    </script>\n",
        "    "
       ],
       "metadata": {},
       "output_type": "display_data",
       "text": [
        "<IPython.core.display.HTML at 0x7f9fb8da8650>"
       ]
      }
     ],
     "prompt_number": 5
    },
    {
     "cell_type": "code",
     "collapsed": false,
     "input": [
      "def divTable(divnames,columns):\n",
      "    pd.DataFrame(l,columns=colnames).to_html()\n",
      "\n",
      "    \n",
      "l=[[\"a\",\"b\",\"c\"],[\"foo\",\"bar\",\"bro\"]]\n",
      "\n",
      "\n",
      "display(HTML(df.to_html()))\n",
      "s=\"\"\"<table border=\"\">\n",
      "        <tr>\n",
      "            <td>\"foo\"</td>\n",
      "            <td>\"foo\"</td>\n",
      "        </tr>\n",
      "    </table>\"\"\"\n",
      "display(HTML(s))\n"
     ],
     "language": "python",
     "metadata": {},
     "outputs": [
      {
       "html": [
        "<table border=\"1\" class=\"dataframe\">\n",
        "  <thead>\n",
        "    <tr style=\"text-align: right;\">\n",
        "      <th></th>\n",
        "      <th>a</th>\n",
        "      <th>b</th>\n",
        "      <th>c</th>\n",
        "    </tr>\n",
        "  </thead>\n",
        "  <tbody>\n",
        "    <tr>\n",
        "      <th>0</th>\n",
        "      <td> 0</td>\n",
        "      <td>-0.046201</td>\n",
        "      <td> 1.000000</td>\n",
        "    </tr>\n",
        "    <tr>\n",
        "      <th>1</th>\n",
        "      <td> 1</td>\n",
        "      <td> 0.059525</td>\n",
        "      <td> 0.809017</td>\n",
        "    </tr>\n",
        "    <tr>\n",
        "      <th>2</th>\n",
        "      <td> 2</td>\n",
        "      <td> 0.089984</td>\n",
        "      <td> 0.309017</td>\n",
        "    </tr>\n",
        "    <tr>\n",
        "      <th>3</th>\n",
        "      <td> 3</td>\n",
        "      <td>-0.050799</td>\n",
        "      <td>-0.309017</td>\n",
        "    </tr>\n",
        "    <tr>\n",
        "      <th>4</th>\n",
        "      <td> 4</td>\n",
        "      <td> 0.013596</td>\n",
        "      <td>-0.809017</td>\n",
        "    </tr>\n",
        "    <tr>\n",
        "      <th>5</th>\n",
        "      <td> 5</td>\n",
        "      <td> 0.098777</td>\n",
        "      <td>-1.000000</td>\n",
        "    </tr>\n",
        "    <tr>\n",
        "      <th>6</th>\n",
        "      <td> 6</td>\n",
        "      <td> 0.079173</td>\n",
        "      <td>-0.809017</td>\n",
        "    </tr>\n",
        "    <tr>\n",
        "      <th>7</th>\n",
        "      <td> 7</td>\n",
        "      <td> 0.088091</td>\n",
        "      <td>-0.309017</td>\n",
        "    </tr>\n",
        "    <tr>\n",
        "      <th>8</th>\n",
        "      <td> 8</td>\n",
        "      <td> 0.148062</td>\n",
        "      <td> 0.309017</td>\n",
        "    </tr>\n",
        "    <tr>\n",
        "      <th>9</th>\n",
        "      <td> 9</td>\n",
        "      <td> 0.026388</td>\n",
        "      <td> 0.809017</td>\n",
        "    </tr>\n",
        "  </tbody>\n",
        "</table>"
       ],
       "metadata": {},
       "output_type": "display_data",
       "text": [
        "<IPython.core.display.HTML at 0x7f9fb9016b90>"
       ]
      },
      {
       "html": [
        "<table border=\"\">\n",
        "        <tr>\n",
        "            <td>\"foo\"</td>\n",
        "            <td>\"foo\"</td>\n",
        "        </tr>\n",
        "    </table>"
       ],
       "metadata": {},
       "output_type": "display_data",
       "text": [
        "<IPython.core.display.HTML at 0x7f9fd5b24f50>"
       ]
      }
     ],
     "prompt_number": 14
    },
    {
     "cell_type": "code",
     "collapsed": false,
     "input": [],
     "language": "python",
     "metadata": {},
     "outputs": []
    }
   ],
   "metadata": {}
  }
 ]
}