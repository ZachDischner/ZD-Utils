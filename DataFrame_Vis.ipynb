{
 "metadata": {
  "name": "",
  "signature": "sha256:bc09398024f6a6da5180be71922aff90551b572970a1e0f316e37795a42d6ebd"
 },
 "nbformat": 3,
 "nbformat_minor": 0,
 "worksheets": [
  {
   "cells": [
    {
     "cell_type": "code",
     "collapsed": false,
     "input": [
      "import pandas as pd\n",
      "import numpy as np\n",
      "import DataFrameUtils as dfutil\n",
      "from IPython.display import display,Javascript,HTML,display_html,display_javascript"
     ],
     "language": "python",
     "metadata": {},
     "outputs": [],
     "prompt_number": 50
    },
    {
     "cell_type": "code",
     "collapsed": false,
     "input": [
      "df = pd.DataFrame(columns=['x','y','z'])\n",
      "df.x=arange(10)\n",
      "df.y=np.sin(df.x*0.02*pi/10) + (np.random.ranf(size=len(df.x))-0.5)*0.25\n",
      "df.z=np.cos(df.x*pi/5)\n"
     ],
     "language": "python",
     "metadata": {},
     "outputs": [],
     "prompt_number": 60
    },
    {
     "cell_type": "code",
     "collapsed": false,
     "input": [
      "reload(dfutil)\n",
      "dfj,dygraphs_str = dfutil.DataFrame2DygraphsJS(df,col_for_x_axis=\"x\")\n",
      "print dygraphs_str\n",
      "display(HTML(dygraphs_str))"
     ],
     "language": "python",
     "metadata": {},
     "outputs": [
      {
       "output_type": "stream",
       "stream": "stdout",
       "text": [
        "\n",
        "    <script src=\"http://dygraphs.com/dygraph-combined.js\"></script>\n",
        "    <div id=\"graphdiv\" style=\"width: auto; height: 400px;\"></div>\n",
        "    <script type=\"text/javascript\">\n",
        "    function convertToDataTable(d) {\n",
        "      var columns = _.keys(d);\n",
        "      //document.write(columns);\n",
        "      columns.splice(columns.indexOf('x'), 1);  // Get index column. (prob index). Don't need to do this just to plot all  \n",
        "      var out = [];\n",
        "      var i = 0;\n",
        "      for (var k in d['x']) {\n",
        "        var row = [d['x'][k]];\n",
        "        columns.forEach(function(col) {\n",
        "          row.push(d[col][k]);\n",
        "          i=i+0.01;\n",
        "          indexGetter(i);\n",
        "        });\n",
        "        out.push(row);\n",
        "      }\n",
        "      return {data:out, labels:['x'].concat(columns)};\n",
        "    }\n",
        "\n",
        "    function indexGetter(i)\n",
        "    {\n",
        "        $('div#status').width(i);\n",
        "    }\n",
        "\n",
        "    function handle_output(out) {\n",
        "      var json = out.content.data['text/plain'];\n",
        "      var data = JSON.parse(eval(json));\n",
        "      var tabular = convertToDataTable(data);\n",
        "      g = new Dygraph(document.getElementById('graphdiv'), tabular.data, {\n",
        "        legend: 'always',\n",
        "        labels: tabular.labels,\n",
        "        rollPeriod: 1,\n",
        "        showRoller: true,\n",
        "        colors: [\"red\",\"blue\"],\n",
        "        errorBars: false\n",
        "      })\n",
        "    }\n",
        "    var kernel = IPython.notebook.kernel;\n",
        "    var callbacks = { 'iopub' : {'output' : handle_output}};\n",
        "    kernel.execute(\"dfj\", callbacks, {silent:false});\n",
        "    </script>\n",
        "    \n"
       ]
      },
      {
       "html": [
        "\n",
        "    <script src=\"http://dygraphs.com/dygraph-combined.js\"></script>\n",
        "    <div id=\"graphdiv\" style=\"width: auto; height: 400px;\"></div>\n",
        "    <script type=\"text/javascript\">\n",
        "    function convertToDataTable(d) {\n",
        "      var columns = _.keys(d);\n",
        "      //document.write(columns);\n",
        "      columns.splice(columns.indexOf('x'), 1);  // Get index column. (prob index). Don't need to do this just to plot all  \n",
        "      var out = [];\n",
        "      var i = 0;\n",
        "      for (var k in d['x']) {\n",
        "        var row = [d['x'][k]];\n",
        "        columns.forEach(function(col) {\n",
        "          row.push(d[col][k]);\n",
        "          i=i+0.01;\n",
        "          indexGetter(i);\n",
        "        });\n",
        "        out.push(row);\n",
        "      }\n",
        "      return {data:out, labels:['x'].concat(columns)};\n",
        "    }\n",
        "\n",
        "    function indexGetter(i)\n",
        "    {\n",
        "        $('div#status').width(i);\n",
        "    }\n",
        "\n",
        "    function handle_output(out) {\n",
        "      var json = out.content.data['text/plain'];\n",
        "      var data = JSON.parse(eval(json));\n",
        "      var tabular = convertToDataTable(data);\n",
        "      g = new Dygraph(document.getElementById('graphdiv'), tabular.data, {\n",
        "        legend: 'always',\n",
        "        labels: tabular.labels,\n",
        "        rollPeriod: 1,\n",
        "        showRoller: true,\n",
        "        colors: [\"red\",\"blue\"],\n",
        "        errorBars: false\n",
        "      })\n",
        "    }\n",
        "    var kernel = IPython.notebook.kernel;\n",
        "    var callbacks = { 'iopub' : {'output' : handle_output}};\n",
        "    kernel.execute(\"dfj\", callbacks, {silent:false});\n",
        "    </script>\n",
        "    "
       ],
       "metadata": {},
       "output_type": "display_data",
       "text": [
        "<IPython.core.display.HTML at 0x1058051d0>"
       ]
      }
     ],
     "prompt_number": 62
    },
    {
     "cell_type": "code",
     "collapsed": false,
     "input": [],
     "language": "python",
     "metadata": {},
     "outputs": [],
     "prompt_number": 46
    },
    {
     "cell_type": "code",
     "collapsed": false,
     "input": [],
     "language": "python",
     "metadata": {},
     "outputs": [],
     "prompt_number": 29
    },
    {
     "cell_type": "code",
     "collapsed": false,
     "input": [],
     "language": "python",
     "metadata": {},
     "outputs": []
    }
   ],
   "metadata": {}
  }
 ]
}